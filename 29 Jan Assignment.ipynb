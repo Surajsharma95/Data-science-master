{
 "cells": [
  {
   "cell_type": "markdown",
   "id": "32237a47-1ac1-46a9-af71-d59517a2948a",
   "metadata": {},
   "source": [
    "**Q1:**  Who developed Python Programming Language? "
   ]
  },
  {
   "cell_type": "markdown",
   "id": "c1ece08f-46ea-4a66-a2a1-867e8d8e31f4",
   "metadata": {},
   "source": [
    " Guido van Rossum. 1980"
   ]
  },
  {
   "cell_type": "markdown",
   "id": "5eb7a18d-3402-4a7b-aacd-486b9e1fd21c",
   "metadata": {},
   "source": [
    "**Q2:** Which type of Programming does Python support? "
   ]
  },
  {
   "cell_type": "markdown",
   "id": "7daa395a-2003-4e60-90bd-776444543854",
   "metadata": {},
   "source": [
    "Python supports several programming paradigms, including procedural, object-oriented, and functional programming. It is a versatile language that allows developers to use different programming styles based on their needs and preferences."
   ]
  },
  {
   "cell_type": "markdown",
   "id": "c0bd215b-9cc2-4c1d-9c8a-07d9ad26679a",
   "metadata": {},
   "source": [
    "**Q3:** Is Python case sensitive when dealing with identifiers?"
   ]
  },
  {
   "cell_type": "markdown",
   "id": "58f467e4-6b8b-4cf3-bad2-816a86bbb667",
   "metadata": {},
   "source": [
    "Yes, Python is case-sensitive when dealing with identifiers. This means that variables or function names with different casing are considered distinct"
   ]
  },
  {
   "cell_type": "markdown",
   "id": "583f3278-3803-4e4f-887c-5c232330cf0c",
   "metadata": {},
   "source": [
    "**Q4:**  What is the correct extension of the Python file? "
   ]
  },
  {
   "cell_type": "markdown",
   "id": "5ba5cf4d-73fb-42fd-8b2e-91acf6b85712",
   "metadata": {},
   "source": [
    "The correct extension for a Python file is \".py\""
   ]
  },
  {
   "cell_type": "markdown",
   "id": "33c0e090-afc8-4108-a5ae-faec1ad91a2e",
   "metadata": {},
   "source": [
    "**Q5:** Is Python code compiled or interpreted? "
   ]
  },
  {
   "cell_type": "markdown",
   "id": "adc76462-b921-4810-94ad-023cae39444d",
   "metadata": {},
   "source": [
    "Typically, Python code is interpreted. A Python programme does not require a separate compilation phase before processing and running the source code. It's crucial to keep in mind, though, that Python combines compilation with interpretation. The Python virtual machine (PVM) executes the bytecode created by the Python interpreter once it has been translated into source code."
   ]
  },
  {
   "cell_type": "markdown",
   "id": "90303912-2d87-436b-88e8-3186e08aef8b",
   "metadata": {},
   "source": [
    "**Q6:** Name a few blocks of code used to define in Python language? "
   ]
  },
  {
   "cell_type": "markdown",
   "id": "59a3b274-7696-4d0b-bef4-39127959f1ba",
   "metadata": {},
   "source": [
    "In Python, code blocks are defined using indentation. Indentation is a fundamental part of Python's syntax and is used to group statements together. Blocks of code are typically defined within loops, conditional statements (such as if-else statements), and function or class definitions."
   ]
  },
  {
   "cell_type": "markdown",
   "id": "787c00fe-bf22-4ae7-9508-8badaa42fbe7",
   "metadata": {},
   "source": [
    "**Q7:** State a character used to give single-line comments in Python? "
   ]
  },
  {
   "cell_type": "markdown",
   "id": "15d91ad7-b388-40e0-ac07-28ad5024e4d2",
   "metadata": {},
   "source": [
    "`#` is use to comment for single line"
   ]
  },
  {
   "cell_type": "markdown",
   "id": "cc1e69db-1a9c-42e3-bda3-d25c12d59567",
   "metadata": {},
   "source": [
    "**Q8:** Mention functions which can help us to find the version of python that we are currently working on?"
   ]
  },
  {
   "cell_type": "code",
   "execution_count": 9,
   "id": "0e5ad518-67be-48c1-99f8-953e53a1ad7f",
   "metadata": {},
   "outputs": [
    {
     "name": "stdout",
     "output_type": "stream",
     "text": [
      "3.10.8 | packaged by conda-forge | (main, Nov 22 2022, 08:26:04) [GCC 10.4.0]\n"
     ]
    }
   ],
   "source": [
    "import sys\n",
    "\n",
    "print(sys.version)"
   ]
  },
  {
   "cell_type": "markdown",
   "id": "1d774b7f-52c4-4eea-8e0f-cdcb3a2306c7",
   "metadata": {},
   "source": [
    "**Q9:** Python supports the creation of anonymous functions at runtime, using a construct called "
   ]
  },
  {
   "cell_type": "markdown",
   "id": "bf6f172a-b8b9-4b6c-bd18-37e18e29c81f",
   "metadata": {},
   "source": [
    "Python supports the creation of anonymous functions at runtime using a construct called \"lambda\" functions. Lambda functions are small, anonymous functions that can be defined inline without a formal function definition. They are typically used for simple, one-line operations."
   ]
  },
  {
   "cell_type": "markdown",
   "id": "d46cf266-344b-48b4-b71c-acf642dd3a30",
   "metadata": {},
   "source": [
    "**Q10:** What does pip stand for python?"
   ]
  },
  {
   "cell_type": "markdown",
   "id": "00088cf3-7cc8-4b50-9950-20a2dde71165",
   "metadata": {},
   "source": [
    "\"pip\" stands for \"Pip Installs Packages.\" It is a package management system and command-line tool for installing Python packages from the Python Package Index (PyPI) and other package repositories."
   ]
  },
  {
   "cell_type": "markdown",
   "id": "8f82d454-ab1d-4428-9ee1-392157fd2dd6",
   "metadata": {},
   "source": [
    "**Q11:** Mention a few built-in functions in python? "
   ]
  },
  {
   "cell_type": "markdown",
   "id": "2ca8d5cc-2353-4fe8-887d-19752ac84fbd",
   "metadata": {},
   "source": [
    "`print()`, `len()`, `type()`, `int()`, `str()`, `max()`, `min()`, `sum()`, `range()`, and `input()`."
   ]
  },
  {
   "cell_type": "markdown",
   "id": "ef8e309e-f132-4711-87ac-d9d66194dfa5",
   "metadata": {},
   "source": [
    "**Q12:** What is the maximum possible length of an identifier in Python?"
   ]
  },
  {
   "cell_type": "markdown",
   "id": "427294ea-cbe2-4fe9-a64a-a95e9091354a",
   "metadata": {},
   "source": [
    "The maximum possible length of an identifier in Python is implementation-dependent. In most Python implementations, the maximum length of an identifier is 255 characters"
   ]
  },
  {
   "cell_type": "markdown",
   "id": "c05bc7ff-5831-4d21-bbd3-5f637d644c0a",
   "metadata": {},
   "source": [
    "**Q13:** What are the benefits of using Python? "
   ]
  },
  {
   "cell_type": "markdown",
   "id": "47c65f65-67c2-4548-9215-fde8b6257a1f",
   "metadata": {},
   "source": [
    "Readability and simplicity,Versatility, Large standard library, Cross-platform compatibility, Integration and extensibility, Third-party libraries and ecosystem"
   ]
  },
  {
   "cell_type": "markdown",
   "id": "ee65a5a7-818e-4768-a2f1-a60b52c6e9a9",
   "metadata": {},
   "source": [
    "**Q14:** How is memory managed in Python? "
   ]
  },
  {
   "cell_type": "markdown",
   "id": "156eaefa-6591-460b-a58b-afc7e248e5c1",
   "metadata": {},
   "source": [
    "Python uses a process called garbage collection to automatically manage memory. Python manages memory using a combination of reference counting and a garbage collector. The reference count of an object drops when it is no longer referenced, and when the count is 0, the object is deallocated and the memory is released. To make room for reused memory, the garbage collector assists in locating and collecting items that are no longer accessible."
   ]
  },
  {
   "cell_type": "markdown",
   "id": "7afbd16b-d65d-4d43-9d70-a61edfe64d78",
   "metadata": {},
   "source": [
    "**Q15:** How to install Python on Windows and set path variables?"
   ]
  },
  {
   "cell_type": "markdown",
   "id": "9b47844d-4a58-4082-8bfb-8358137494d3",
   "metadata": {},
   "source": [
    "These steps can be used to configure path variables and install Python on Windows:\n",
    "\n",
    "Browse to the Downloads area on the official Python website, https://www.python.org.\n",
    "\n",
    "\n",
    "Python 3.9.5, for example, is the best version to use with your Windows operating system.\n",
    "\n",
    "Run the installation that you downloaded.\n",
    "\n",
    "Select \"Add Python to PATH\" on the installation window, then click \"Install Now\" to launch the installation.\n",
    "\n",
    "Open the command prompt after the installation is finished, and then type python --version to check that Python is installed and available.\n",
    "\n"
   ]
  },
  {
   "cell_type": "markdown",
   "id": "3b58b5eb-c374-4c61-80c9-ad5e0c80a5de",
   "metadata": {},
   "source": [
    "**Q16:** Is indentation required in python"
   ]
  },
  {
   "cell_type": "markdown",
   "id": "876da87e-45f8-44d1-855d-6a9957839983",
   "metadata": {},
   "source": [
    "yes"
   ]
  },
  {
   "cell_type": "markdown",
   "id": "da16e3aa-2ac8-47e3-83b2-70dc74ff3b5a",
   "metadata": {},
   "source": []
  }
 ],
 "metadata": {
  "kernelspec": {
   "display_name": "Python 3 (ipykernel)",
   "language": "python",
   "name": "python3"
  },
  "language_info": {
   "codemirror_mode": {
    "name": "ipython",
    "version": 3
   },
   "file_extension": ".py",
   "mimetype": "text/x-python",
   "name": "python",
   "nbconvert_exporter": "python",
   "pygments_lexer": "ipython3",
   "version": "3.10.8"
  }
 },
 "nbformat": 4,
 "nbformat_minor": 5
}
