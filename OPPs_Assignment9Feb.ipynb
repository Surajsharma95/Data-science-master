{
 "cells": [
  {
   "cell_type": "markdown",
   "id": "ec161f9e-3f5e-443c-bd1a-b7cc0c1372fd",
   "metadata": {},
   "source": [
    "Q1, Create a vehicle class with an init method having instance variables as name_of_vehicle, max_speed\n",
    "and average_of_vehicle."
   ]
  },
  {
   "cell_type": "code",
   "execution_count": 13,
   "id": "d3005793-b2ce-48c3-914c-44e8d5f69379",
   "metadata": {},
   "outputs": [],
   "source": [
    "class Vehicle:\n",
    "    def __init__(self, name_of_vehicle, max_speed, average_of_vehicle):\n",
    "        self.name_of_vehicle = name_of_vehicle\n",
    "        self.max_speed = max_speed\n",
    "        self.average_of_vehicle = average_of_vehicle"
   ]
  },
  {
   "cell_type": "code",
   "execution_count": 14,
   "id": "64561484-5242-4624-aba6-6ee4b5589c51",
   "metadata": {},
   "outputs": [],
   "source": [
    "car = Vehicle(\"Car\", 200, 30)"
   ]
  },
  {
   "cell_type": "markdown",
   "id": "c0e62959-adaa-43c5-88fa-f0b301c7a050",
   "metadata": {},
   "source": [
    "Q2. Create a child class car from the vehicle class created in Que 1, which will inherit the vehicle class.\n",
    "Create a method named seating_capacity which takes capacity as an argument and returns the name of\n",
    "the vehicle and its seating capacity."
   ]
  },
  {
   "cell_type": "code",
   "execution_count": 18,
   "id": "ed8c3cf8-4327-49c4-ae8b-cf245c7cc0bd",
   "metadata": {},
   "outputs": [],
   "source": [
    "class Vehicle:\n",
    "    def __init__(self, name_of_vehicle, max_speed, average_of_vehicle):\n",
    "        self.name_of_vehicle = name_of_vehicle\n",
    "        self.max_speed = max_speed\n",
    "        self.average_of_vehicle = average_of_vehicle\n",
    "        \n",
    "class car(Vehicle):\n",
    "    def seating_capacity(self, capacity):\n",
    "         return f\"The {self.name_of_vehicle} has a seating capacity of {capacity} passengers.\"\n"
   ]
  },
  {
   "cell_type": "code",
   "execution_count": 19,
   "id": "1d46a02c-95aa-48bc-94c8-278c274876f3",
   "metadata": {},
   "outputs": [
    {
     "name": "stdout",
     "output_type": "stream",
     "text": [
      "The BMW x2 has a seating capacity of 5 passengers.\n"
     ]
    }
   ],
   "source": [
    "car = car(\"BMW x2\", 250, 24)\n",
    "capacity = 5\n",
    "result = car.seating_capacity(capacity)\n",
    "print(result)"
   ]
  },
  {
   "cell_type": "markdown",
   "id": "1f27ea64-90f5-44f6-93a0-38e3e56369f1",
   "metadata": {},
   "source": [
    "Q3. What is multiple inheritance? Write a python code to demonstrate multiple inheritance."
   ]
  },
  {
   "cell_type": "markdown",
   "id": "8c308759-7e3c-4fda-8c74-b0842069d4cc",
   "metadata": {},
   "source": [
    "Multiple inheritance is a feature in object-oriented programming where a class can inherit attributes and methods from more than one parent class. In other words, a class can have more than one base class. This allows a class to inherit and reuse code from multiple sources, which can be useful in certain situations where multiple inheritance is conceptually appropriate."
   ]
  },
  {
   "cell_type": "code",
   "execution_count": 23,
   "id": "944d8390-2d8f-473c-8e05-4e49c9c04849",
   "metadata": {},
   "outputs": [],
   "source": [
    "class bikes:\n",
    "    def sports_bike(self):\n",
    "        print(\"this is a sports bike\")\n",
    "class cars:\n",
    "    def sports_car(self):\n",
    "        print(\"this is a sports car\")\n",
    "        \n",
    "class race_events(bikes, cars):\n",
    "      pass\n",
    "        \n",
    "        "
   ]
  },
  {
   "cell_type": "markdown",
   "id": "e5013e9b-c591-4060-b82a-1e9b5cd0eea1",
   "metadata": {},
   "source": [
    "Q4. What are getter and setter in python? Create a class and create a getter and a setter method in this\n",
    "class."
   ]
  },
  {
   "cell_type": "markdown",
   "id": "7bccc52d-ab15-4a98-aac7-33d8727976e8",
   "metadata": {},
   "source": [
    "Getters and setters are specialised methods in Python that are used to encapsulate the access and modification of class properties, giving users a mechanism to manage this functionality from outside the class. While setter methods are used to set or change an attribute's value, getter methods are used to obtain an attribute's value."
   ]
  },
  {
   "cell_type": "code",
   "execution_count": 25,
   "id": "360002be-a4f8-45c0-b3e2-b233ff581088",
   "metadata": {},
   "outputs": [],
   "source": [
    "class Person:\n",
    "    def __init__(self, name, age):\n",
    "        self._name = name\n",
    "        self._age = age\n",
    "\n",
    "    # Getter method to retrieve the value of name attribute\n",
    "    @property\n",
    "    def name(self):\n",
    "        return self._name\n",
    "\n",
    "    # Setter method to set or modify the value of name attribute\n",
    "    @name.setter\n",
    "    def name(self, name):\n",
    "        self._name = name\n",
    "\n",
    "    # Getter method to retrieve the value of age attribute\n",
    "    @property\n",
    "    def age(self):\n",
    "        return self._age\n",
    "\n",
    "    # Setter method to set or modify the value of age attribute\n",
    "    @age.setter\n",
    "    def age(self, age):\n",
    "        if age < 0:\n",
    "            print(\"Invalid age value. Age cannot be negative.\")\n",
    "        else:\n",
    "            self._age = age\n"
   ]
  },
  {
   "cell_type": "code",
   "execution_count": 26,
   "id": "31cc7c20-9f65-452b-976c-b0c64753b2ca",
   "metadata": {},
   "outputs": [],
   "source": [
    "info = Person(\"Raj\",25)"
   ]
  },
  {
   "cell_type": "code",
   "execution_count": 28,
   "id": "71904bcd-9908-458d-af0e-fa53a107fdf6",
   "metadata": {},
   "outputs": [
    {
     "data": {
      "text/plain": [
       "'Raj'"
      ]
     },
     "execution_count": 28,
     "metadata": {},
     "output_type": "execute_result"
    }
   ],
   "source": [
    "info.name"
   ]
  },
  {
   "cell_type": "code",
   "execution_count": 29,
   "id": "5a7d8e01-668d-4dee-877e-9856a502ec6e",
   "metadata": {},
   "outputs": [
    {
     "data": {
      "text/plain": [
       "25"
      ]
     },
     "execution_count": 29,
     "metadata": {},
     "output_type": "execute_result"
    }
   ],
   "source": [
    "info.age "
   ]
  },
  {
   "cell_type": "code",
   "execution_count": 30,
   "id": "b210ea15-73ab-49e5-bf87-0b1c85bb652a",
   "metadata": {},
   "outputs": [
    {
     "name": "stdout",
     "output_type": "stream",
     "text": [
      "Invalid age value. Age cannot be negative.\n"
     ]
    }
   ],
   "source": [
    "info.age = -3\n"
   ]
  },
  {
   "cell_type": "markdown",
   "id": "53b129b4-37cf-4680-bdb9-a8dfb57a8bea",
   "metadata": {},
   "source": [
    "Q5.What is method overriding in python? Write a python code to demonstrate method overriding."
   ]
  },
  {
   "cell_type": "markdown",
   "id": "918f37ee-e8bf-4554-8387-1b1bbdf730bf",
   "metadata": {},
   "source": [
    "In object-oriented programming, the idea of method overriding refers to when a subclass offers a fresh implementation of a method that is already defined in its superclass. As a result, the subclass can both inherit the superclass's properties and methods while also having the option to override or alter a particular method's behaviour."
   ]
  },
  {
   "cell_type": "code",
   "execution_count": 35,
   "id": "9a7e2668-2443-4f75-847f-346d93f5531f",
   "metadata": {},
   "outputs": [
    {
     "name": "stdout",
     "output_type": "stream",
     "text": [
      "Student name is Raj and id no. is 125\n",
      "Raj plays Football\n",
      "Student name is Rahul and id no. is 670\n",
      "Rahul plays Basketball and is a sports student\n"
     ]
    }
   ],
   "source": [
    "class Student:\n",
    "    def __init__(self, name, id_no):\n",
    "        self.name = name\n",
    "        self.id_no = id_no\n",
    "\n",
    "    def student_detail(self):\n",
    "        print(f\"Student name is {self.name} and id no. is {self.id_no}\")\n",
    "\n",
    "    def student_activities(self, game):\n",
    "        self.game = game\n",
    "        print(f\"{self.name} plays {self.game}\")\n",
    "\n",
    "\n",
    "class SportsStudent(Student):\n",
    "    def student_activities(self, game):\n",
    "        self.game = game\n",
    "        print(f\"{self.name} plays {self.game} and is a sports student\")\n",
    "\n",
    "\n",
    "student1 = Student(\"Raj\", 125)\n",
    "student1.student_detail()\n",
    "student1.student_activities(\"Football\")\n",
    "\n",
    "sports_student1 = SportsStudent(\"Rahul\", 670)\n",
    "sports_student1.student_detail()\n",
    "sports_student1.student_activities(\"Basketball\")\n"
   ]
  },
  {
   "cell_type": "code",
   "execution_count": null,
   "id": "b9100de4-e88f-4768-931b-76f828988731",
   "metadata": {},
   "outputs": [],
   "source": []
  }
 ],
 "metadata": {
  "kernelspec": {
   "display_name": "Python 3 (ipykernel)",
   "language": "python",
   "name": "python3"
  },
  "language_info": {
   "codemirror_mode": {
    "name": "ipython",
    "version": 3
   },
   "file_extension": ".py",
   "mimetype": "text/x-python",
   "name": "python",
   "nbconvert_exporter": "python",
   "pygments_lexer": "ipython3",
   "version": "3.10.8"
  }
 },
 "nbformat": 4,
 "nbformat_minor": 5
}
