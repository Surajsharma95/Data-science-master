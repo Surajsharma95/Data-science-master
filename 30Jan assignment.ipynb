{
 "cells": [
  {
   "cell_type": "markdown",
   "id": "d83fdf88-162a-4f68-8533-8eadfdddc2f6",
   "metadata": {},
   "source": [
    "**Q1:** Write a program to accept percentage from the user and display the grade according to the following \n",
    "criteria: \n",
    "Marks \n",
    "Grade \n",
    ">90 \n",
    "A \n",
    ">80 and <=90 \n",
    "B \n",
    ">=60 and <=80 \n",
    "C \n",
    "below 60 \n",
    "D \n"
   ]
  },
  {
   "cell_type": "code",
   "execution_count": 1,
   "id": "f58105dd-7856-4507-99cc-79abba950b41",
   "metadata": {},
   "outputs": [
    {
     "name": "stdin",
     "output_type": "stream",
     "text": [
      "Enter the percentage:  79\n"
     ]
    },
    {
     "name": "stdout",
     "output_type": "stream",
     "text": [
      "Grade: C\n"
     ]
    }
   ],
   "source": [
    "percentage = float(input(\"Enter the percentage: \"))\n",
    "\n",
    "if percentage > 90:\n",
    "    grade = \"A\"\n",
    "elif percentage > 80:\n",
    "    grade = \"B\"\n",
    "elif percentage >= 60:\n",
    "    grade = \"C\"\n",
    "else:\n",
    "    grade = \"D\"\n",
    "\n",
    "print(\"Grade:\", grade)"
   ]
  },
  {
   "cell_type": "markdown",
   "id": "62ead2e6-e6bb-464d-a322-9c35778f9c58",
   "metadata": {},
   "source": [
    "**Q2:** Write a program to accept the cost price of a bike and display the road tax to be paid according to the \n",
    "following criteria: \n",
    "```\n",
    "Tax             Cost Price(in Rs)\n",
    "15% -----        >100000 \n",
    "10% -----        50000 and <= 100000 \n",
    "5%  -----        <= 50000 \n",
    "``` \n",
    "\n",
    "\n"
   ]
  },
  {
   "cell_type": "code",
   "execution_count": 4,
   "id": "a923a691-7ece-437d-9682-90b7cbbd90ce",
   "metadata": {},
   "outputs": [
    {
     "name": "stdin",
     "output_type": "stream",
     "text": [
      "Enter the cost price of the bike (in Rs):  7800000\n"
     ]
    },
    {
     "name": "stdout",
     "output_type": "stream",
     "text": [
      "Road Tax to be paid: Rs 1170000.0\n"
     ]
    }
   ],
   "source": [
    "cost_price = float(input(\"Enter the cost price of the bike (in Rs): \"))\n",
    "\n",
    "if cost_price > 100000:\n",
    "    tax_percentage = 15\n",
    "elif cost_price > 50000:\n",
    "    tax_percentage = 10\n",
    "else:\n",
    "    tax_percentage = 5\n",
    "\n",
    "road_tax = (tax_percentage / 100) * cost_price\n",
    "\n",
    "print(\"Road Tax to be paid: Rs\", road_tax)"
   ]
  },
  {
   "cell_type": "markdown",
   "id": "0835ab58-8afe-42b0-9cce-ad587c04acaf",
   "metadata": {},
   "source": [
    "**Q3:** Accept any city from the user and display monuments of that city. \n",
    "```\n",
    "City      Monument \n",
    "Delhi  -- Red Fort \n",
    "Agra   --Taj Mahal \n",
    "Jaipur --Jal Mahal \n",
    "\n",
    "```"
   ]
  },
  {
   "cell_type": "code",
   "execution_count": 6,
   "id": "e8a071d0-07e5-4012-9d0a-465da36cc167",
   "metadata": {},
   "outputs": [
    {
     "name": "stdin",
     "output_type": "stream",
     "text": [
      "Enter the city name:  Agra\n"
     ]
    },
    {
     "name": "stdout",
     "output_type": "stream",
     "text": [
      "Monuments in Agra:\n",
      "Taj Mahal\n"
     ]
    }
   ],
   "source": [
    "monuments = {\n",
    "    \"Delhi\": [\"Red Fort\"],\n",
    "    \"Agra\": [\"Taj Mahal\"],\n",
    "    \"Jaipur\": [\"Jal Mahal\"]\n",
    "}\n",
    "\n",
    "city = input(\"Enter the city name: \")\n",
    "\n",
    "if city in monuments:\n",
    "    city_monuments = monuments[city]\n",
    "    print(\"Monuments in\", city + \":\")\n",
    "    for monument in city_monuments:\n",
    "        print(monument)\n",
    "else:\n",
    "    print(\"No monuments found for\", city)"
   ]
  },
  {
   "cell_type": "markdown",
   "id": "3e1772aa-adcb-4d96-8ec5-ab81be4dcda7",
   "metadata": {},
   "source": [
    "**Q4:**  Check how many times a given number can be divided by 3 before it is less than or equal to 10"
   ]
  },
  {
   "cell_type": "code",
   "execution_count": 8,
   "id": "3cd381cf-5440-453d-b6a5-3f39b1fb59fa",
   "metadata": {},
   "outputs": [
    {
     "name": "stdin",
     "output_type": "stream",
     "text": [
      "Enter a number:  89\n"
     ]
    },
    {
     "name": "stdout",
     "output_type": "stream",
     "text": [
      "The given number can be divided by 3: 2 times before it is less than or equal to 10.\n"
     ]
    }
   ],
   "source": [
    "number = int(input(\"Enter a number: \"))\n",
    "count = 0\n",
    "\n",
    "while number > 10:\n",
    "    number /= 3\n",
    "    count += 1\n",
    "\n",
    "print(\"The given number can be divided by 3:\", count, \"times before it is less than or equal to 10.\")"
   ]
  },
  {
   "cell_type": "markdown",
   "id": "62820ef8-2b8b-4cdb-9bad-e24f397046a3",
   "metadata": {},
   "source": [
    "**Q5:** Why and When to Use while Loop in Python give a detailed description with example \n"
   ]
  },
  {
   "cell_type": "markdown",
   "id": "d59457ad-4aee-473d-9d2e-e8bc2fc21e03",
   "metadata": {},
   "source": [
    "The `while` loop in Python is used to repeatedly execute a block of code as long as a certain condition is true. It allows you to create loops that will continue until a specific condition is no longer satisfied.\n",
    "conditions -- Unknown number of iterations, Continuously monitoring a condition,Iterating through a sequence."
   ]
  },
  {
   "cell_type": "code",
   "execution_count": 11,
   "id": "3a9a92de-763d-454f-b172-2281bc37f8a0",
   "metadata": {},
   "outputs": [
    {
     "name": "stdin",
     "output_type": "stream",
     "text": [
      "Enter a positive integer:  50\n"
     ]
    },
    {
     "name": "stdout",
     "output_type": "stream",
     "text": [
      "The sum of numbers from 1 to 50 is 1275\n"
     ]
    }
   ],
   "source": [
    "# Sum all numbers from 1 to n\n",
    "n = int(input(\"Enter a positive integer: \"))\n",
    "sum = 0\n",
    "i = 1\n",
    "\n",
    "while i <= n:\n",
    "    sum += i\n",
    "    i += 1\n",
    "\n",
    "print(\"The sum of numbers from 1 to\", n, \"is\", sum)"
   ]
  },
  {
   "cell_type": "markdown",
   "id": "b1618c7b-e3d9-4829-8589-75bf32ceea5f",
   "metadata": {},
   "source": [
    "**Q6:** Use nested while loop to print 3 different pattern. "
   ]
  },
  {
   "cell_type": "code",
   "execution_count": 13,
   "id": "8f6a23ce-9cbc-4164-abb8-1d10cf979008",
   "metadata": {},
   "outputs": [
    {
     "name": "stdin",
     "output_type": "stream",
     "text": [
      "Enter the size of the square pattern:  5\n"
     ]
    },
    {
     "name": "stdout",
     "output_type": "stream",
     "text": [
      "* * * * * \n",
      "* * * * * \n",
      "* * * * * \n",
      "* * * * * \n",
      "* * * * * \n"
     ]
    }
   ],
   "source": [
    "#Pattern 1: Square Pattern\n",
    "n = int(input(\"Enter the size of the square pattern: \"))\n",
    "\n",
    "row = 1\n",
    "while row <= n:\n",
    "    col = 1\n",
    "    while col <= n:\n",
    "        print(\"* \", end=\"\")\n",
    "        col += 1\n",
    "    print()\n",
    "    row += 1\n"
   ]
  },
  {
   "cell_type": "code",
   "execution_count": 14,
   "id": "470b47f2-7ea0-42b9-81b4-485c59bcbc68",
   "metadata": {},
   "outputs": [
    {
     "name": "stdin",
     "output_type": "stream",
     "text": [
      "Enter the number of rows for the right triangle pattern:  5\n"
     ]
    },
    {
     "name": "stdout",
     "output_type": "stream",
     "text": [
      "* \n",
      "* * \n",
      "* * * \n",
      "* * * * \n",
      "* * * * * \n"
     ]
    }
   ],
   "source": [
    "\n",
    "#Pattern 2: Right Triangle Pattern\n",
    "n = int(input(\"Enter the number of rows for the right triangle pattern: \"))\n",
    "\n",
    "row = 1\n",
    "while row <= n:\n",
    "    col = 1\n",
    "    while col <= row:\n",
    "        print(\"* \", end=\"\")\n",
    "        col += 1\n",
    "    print()\n",
    "    row += 1"
   ]
  },
  {
   "cell_type": "code",
   "execution_count": 15,
   "id": "bcd7483a-e242-4f24-a15b-f94559d905f5",
   "metadata": {},
   "outputs": [
    {
     "name": "stdin",
     "output_type": "stream",
     "text": [
      "Enter the number of rows for the diamond pattern:  5\n"
     ]
    },
    {
     "name": "stdout",
     "output_type": "stream",
     "text": [
      "    *\n",
      "   ***\n",
      "  *****\n",
      " *******\n",
      "*********\n",
      " *******\n",
      "  *****\n",
      "   ***\n",
      "    *\n"
     ]
    }
   ],
   "source": [
    "#Pattern 3: Diamond Pattern\n",
    "n = int(input(\"Enter the number of rows for the diamond pattern: \"))\n",
    "\n",
    "row = 1\n",
    "while row <= n:\n",
    "    col = 1\n",
    "    while col <= n - row:\n",
    "        print(\" \", end=\"\")\n",
    "        col += 1\n",
    "    col = 1\n",
    "    while col <= 2 * row - 1:\n",
    "        print(\"*\", end=\"\")\n",
    "        col += 1\n",
    "    print()\n",
    "    row += 1\n",
    "\n",
    "row = n - 1\n",
    "while row >= 1:\n",
    "    col = 1\n",
    "    while col <= n - row:\n",
    "        print(\" \", end=\"\")\n",
    "        col += 1\n",
    "    col = 1\n",
    "    while col <= 2 * row - 1:\n",
    "        print(\"*\", end=\"\")\n",
    "        col += 1\n",
    "    print()\n",
    "    row -= 1"
   ]
  },
  {
   "cell_type": "markdown",
   "id": "fc317004-b2e4-4d7c-94a5-a5b5a1f263e3",
   "metadata": {},
   "source": [
    "**Q7:**  Reverse a while loop to display numbers from 10 to 1. "
   ]
  },
  {
   "cell_type": "code",
   "execution_count": 16,
   "id": "33405a44-deae-4e92-81fe-cc33eb6c02a5",
   "metadata": {},
   "outputs": [
    {
     "name": "stdout",
     "output_type": "stream",
     "text": [
      "10\n",
      "9\n",
      "8\n",
      "7\n",
      "6\n",
      "5\n",
      "4\n",
      "3\n",
      "2\n",
      "1\n"
     ]
    }
   ],
   "source": [
    "num = 10\n",
    "\n",
    "while num >= 1:\n",
    "    print(num)\n",
    "    num -= 1"
   ]
  },
  {
   "cell_type": "markdown",
   "id": "5c6e6766-71de-4086-8b69-72e504e7ce73",
   "metadata": {},
   "source": [
    "**Q8:**  Reverse a while loop to display numbers from 10 to 1. "
   ]
  },
  {
   "cell_type": "code",
   "execution_count": 17,
   "id": "f7875057-35b4-4c08-9a25-d5d1e8c3f4ab",
   "metadata": {},
   "outputs": [
    {
     "name": "stdout",
     "output_type": "stream",
     "text": [
      "10\n",
      "9\n",
      "8\n",
      "7\n",
      "6\n",
      "5\n",
      "4\n",
      "3\n",
      "2\n",
      "1\n"
     ]
    }
   ],
   "source": [
    "num = 10\n",
    "\n",
    "while num >= 1:\n",
    "    print(num)\n",
    "    num -= 1"
   ]
  },
  {
   "cell_type": "code",
   "execution_count": null,
   "id": "8fcfa0c5-71f1-49be-83e0-e25fae3144f2",
   "metadata": {},
   "outputs": [],
   "source": []
  }
 ],
 "metadata": {
  "kernelspec": {
   "display_name": "Python 3 (ipykernel)",
   "language": "python",
   "name": "python3"
  },
  "language_info": {
   "codemirror_mode": {
    "name": "ipython",
    "version": 3
   },
   "file_extension": ".py",
   "mimetype": "text/x-python",
   "name": "python",
   "nbconvert_exporter": "python",
   "pygments_lexer": "ipython3",
   "version": "3.10.8"
  }
 },
 "nbformat": 4,
 "nbformat_minor": 5
}
