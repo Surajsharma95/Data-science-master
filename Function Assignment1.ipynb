{
 "cells": [
  {
   "cell_type": "markdown",
   "id": "c95297ff-9b9d-4936-896b-bb7f1e654648",
   "metadata": {},
   "source": [
    "\n",
    "Q1. Which keyword is used to create a function? Create a function to return a list of odd numbers in the\n",
    "range of 1 to 25."
   ]
  },
  {
   "cell_type": "markdown",
   "id": "5f7e2405-e681-4ad1-8fb5-338b44e4ebdc",
   "metadata": {},
   "source": [
    "def is the keyword for creating function"
   ]
  },
  {
   "cell_type": "code",
   "execution_count": 19,
   "id": "49e25fad-24ea-4ab0-830d-82554faa125f",
   "metadata": {},
   "outputs": [
    {
     "data": {
      "text/plain": [
       "[1, 3, 5, 7, 9, 11, 13, 15, 17, 19, 21, 23]"
      ]
     },
     "execution_count": 19,
     "metadata": {},
     "output_type": "execute_result"
    }
   ],
   "source": [
    "def oddnumber():\n",
    "    n = []\n",
    "    for i in range(1,25):\n",
    "        if i %2!=0:\n",
    "            n.append(i)\n",
    "            \n",
    "    return n\n",
    "oddnumber()    \n",
    "            \n"
   ]
  },
  {
   "cell_type": "markdown",
   "id": "f5e301f4-63f1-4aeb-8626-6da84697b83b",
   "metadata": {},
   "source": [
    "Q2. Why *args and **kwargs is used in some functions? Create a function each for *args and **kwargs to\n",
    "demonstrate their use."
   ]
  },
  {
   "cell_type": "markdown",
   "id": "beab0de0-beca-4c53-907c-a15d3d7ccaa2",
   "metadata": {},
   "source": [
    "When passing a function a tuple of arguments, the keyword *args is used. \n",
    "This indicates that the function can handle the arguments without specifying how many arguments\n",
    "it expects explicitly and that the number of arguments passed can vary.\n",
    "\n",
    "**kwargs is used to pass a function a dictionary of keyword arguments in a variable number.\n",
    "This indicates that the function can take as many named arguments as necessary, and those arguments will be saved in the kwargs dictionary."
   ]
  },
  {
   "cell_type": "code",
   "execution_count": 21,
   "id": "85153db2-faf3-484d-a1c9-295ddfc154db",
   "metadata": {},
   "outputs": [
    {
     "name": "stdout",
     "output_type": "stream",
     "text": [
      "960\n"
     ]
    }
   ],
   "source": [
    "def multiply(*args):\n",
    "    result = 1\n",
    "    for num in args:\n",
    "        result *= num\n",
    "    return result\n",
    "print(multiply(2, 3, 4,5,8)) \n"
   ]
  },
  {
   "cell_type": "code",
   "execution_count": 22,
   "id": "1c04ccd5-1899-4617-b64e-4053169ac9f2",
   "metadata": {},
   "outputs": [
    {
     "name": "stdout",
     "output_type": "stream",
     "text": [
      "name = John\n",
      "age = 25\n",
      "location = New York\n"
     ]
    }
   ],
   "source": [
    "def print_kwargs(**kwargs):\n",
    "    for key, value in kwargs.items():\n",
    "        print(f\"{key} = {value}\")\n",
    "print_kwargs(name=\"John\", age=25, location=\"New York\")\n"
   ]
  },
  {
   "cell_type": "markdown",
   "id": "401a3943-03d9-48c0-99f0-ab18e73ae1e9",
   "metadata": {},
   "source": [
    "Q3. What is an iterator in python? Name the method used to initialise the iterator object and the method\n",
    "used for iteration. Use these methods to print the first five elements of the given list [2, 4, 6, 8, 10, 12, 14, 16,\n",
    "18, 20]."
   ]
  },
  {
   "cell_type": "markdown",
   "id": "28c5e846-513e-4daf-b01c-3e01441c7d1c",
   "metadata": {},
   "source": [
    "An iterator is a Python object that enables us to sequentially retrieve each element of a container (such as a list or tuple).\n",
    "We use the iter() function to create an initial iterator object.\n",
    "Iter() returns an iterator object after receiving a container (such as a list) as an argument.\n",
    "With the next() function, we may iterate over an iterator's elements."
   ]
  },
  {
   "cell_type": "code",
   "execution_count": 23,
   "id": "7169d3bd-9920-4a5b-8af2-d2d7275aa0e7",
   "metadata": {},
   "outputs": [
    {
     "name": "stdout",
     "output_type": "stream",
     "text": [
      "2\n",
      "4\n",
      "6\n",
      "8\n",
      "10\n"
     ]
    }
   ],
   "source": [
    "my_list = [2, 4, 6, 8, 10, 12, 14, 16, 18, 20]\n",
    "\n",
    "# Initialize the iterator object\n",
    "my_iterator = iter(my_list)\n",
    "\n",
    "# Iterate over the first five elements\n",
    "for i in range(5):\n",
    "    # Get the next element from the iterator\n",
    "    element = next(my_iterator)\n",
    "    # Print the element\n",
    "    print(element)\n"
   ]
  },
  {
   "cell_type": "markdown",
   "id": "4582a1fd-41e5-423e-829c-ad611161a6a6",
   "metadata": {},
   "source": [
    "Q4. What is a generator function in python? Why yield keyword is used? Give an example of a generator\n",
    "function."
   ]
  },
  {
   "cell_type": "markdown",
   "id": "d4963fea-0328-4a3e-9ce3-e5be2235d63e",
   "metadata": {},
   "source": [
    "A generator function in Python is a specific kind of function that uses the yield keyword to generate a series of values one at a time rather than returning them all at once."
   ]
  },
  {
   "cell_type": "markdown",
   "id": "140fe2c9-0c39-40cd-bdee-7bed875ec513",
   "metadata": {},
   "source": [
    "In a generator function, the yield keyword is used to momentarily halt the function's execution and return a value to the caller. The generator can produce the next value in the sequence by continuing execution when the function calls itself again."
   ]
  },
  {
   "cell_type": "code",
   "execution_count": 4,
   "id": "42f460a1-0a44-4f3f-b984-0b945fc722ed",
   "metadata": {},
   "outputs": [
    {
     "data": {
      "text/plain": [
       "<generator object even_numbers at 0x7efd1e3b9540>"
      ]
     },
     "execution_count": 4,
     "metadata": {},
     "output_type": "execute_result"
    }
   ],
   "source": [
    "def even_numbers(n):\n",
    "    for i in range(n):\n",
    "        if i % 2 == 0:\n",
    "            yield i\n",
    "            \n",
    "even_numbers(20)"
   ]
  },
  {
   "cell_type": "markdown",
   "id": "ac38471b-393a-4dcf-8391-8b891a3e4854",
   "metadata": {},
   "source": [
    "Q5. Create a generator function for prime numbers less than 1000. Use the next() method to print the\n",
    "first 20 prime numbers."
   ]
  },
  {
   "cell_type": "code",
   "execution_count": 1,
   "id": "56e5e15f-effc-495a-a6d1-067feec06713",
   "metadata": {},
   "outputs": [],
   "source": [
    "def primes():\n",
    "    yield 2\n",
    "    primes_list = [2]\n",
    "    n = 3\n",
    "    while n < 1000:\n",
    "        is_prime = True\n",
    "        for prime in primes_list:\n",
    "            if prime*prime > n:\n",
    "                break\n",
    "            if n % prime == 0:\n",
    "                is_prime = False\n",
    "                break\n",
    "        if is_prime:\n",
    "            primes_list.append(n)\n",
    "            yield n\n",
    "        n += 2\n"
   ]
  },
  {
   "cell_type": "code",
   "execution_count": 2,
   "id": "53713205-d739-4a20-9068-cde2e023a4ca",
   "metadata": {},
   "outputs": [
    {
     "name": "stdout",
     "output_type": "stream",
     "text": [
      "2\n",
      "3\n",
      "5\n",
      "7\n",
      "11\n",
      "13\n",
      "17\n",
      "19\n",
      "23\n",
      "29\n",
      "31\n",
      "37\n",
      "41\n",
      "43\n",
      "47\n",
      "53\n",
      "59\n",
      "61\n",
      "67\n",
      "71\n"
     ]
    }
   ],
   "source": [
    "prime_generator = primes()\n",
    "for i in range(20):\n",
    "    print(next(prime_generator))\n",
    "\n",
    "    "
   ]
  },
  {
   "cell_type": "code",
   "execution_count": null,
   "id": "4e9ae66c-1639-4cb9-bd81-04c4c193d2fc",
   "metadata": {},
   "outputs": [],
   "source": []
  }
 ],
 "metadata": {
  "kernelspec": {
   "display_name": "Python 3 (ipykernel)",
   "language": "python",
   "name": "python3"
  },
  "language_info": {
   "codemirror_mode": {
    "name": "ipython",
    "version": 3
   },
   "file_extension": ".py",
   "mimetype": "text/x-python",
   "name": "python",
   "nbconvert_exporter": "python",
   "pygments_lexer": "ipython3",
   "version": "3.10.8"
  }
 },
 "nbformat": 4,
 "nbformat_minor": 5
}
