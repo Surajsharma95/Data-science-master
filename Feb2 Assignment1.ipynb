{
 "cells": [
  {
   "cell_type": "markdown",
   "id": "c511bc60-a990-4872-a660-b2650a53c892",
   "metadata": {},
   "source": [
    "*1-What are the characteristics of the tuples? Is tuple immutable?*\n",
    "Tuples are enclosed in parentheis,contain different data types,Immutable,can be used for returning multiple values. Yes tuples are immutable."
   ]
  },
  {
   "cell_type": "markdown",
   "id": "23ca8081-075f-4468-950b-8d685f0b8920",
   "metadata": {},
   "source": [
    "2- What are the two tuple methods in python? Give an example of each method. Give a reason why\n",
    "tuples have only two in-built methods as compared to Lists."
   ]
  },
  {
   "cell_type": "markdown",
   "id": "b0432446-2630-4465-8bf1-996764506cbc",
   "metadata": {},
   "source": [
    "The two tuple methods in Python are count() and index().\n",
    "\n",
    "The count() method returns the number of times a specified element appears in the tuple. \n",
    "my_tuple = (1, 2, 3, 2, 4, 2)\n",
    "count_of_twos = my_tuple.count(2)\n",
    "print(count_of_twos)\n",
    "\n",
    "The index() method returns the index of the first occurrence of a specified element in the tuple. \n",
    "\n",
    "my_tuple = ('apple', 'banana', 'cherry', 'banana')\n",
    "index_of_banana = my_tuple.index('banana')\n",
    "print(index_of_banana)\n",
    "\n",
    "Tuples have only two in-built methods because tuples are designed to be immutable, meaning they cannot be modified once created.\n",
    "The count() and index() methods are the only methods that do not modify the tuple, and they are useful for working with data stored in tuples.\n",
    "\n"
   ]
  },
  {
   "cell_type": "markdown",
   "id": "0fffa3da-1b5f-4007-88b7-7b7258857f9e",
   "metadata": {},
   "source": [
    "Q3. Which collection datatypes in python do not allow duplicate items? Write a code using a set to remove\n",
    "duplicates from the given list.\n",
    "List = [1, 1, 1, 2, 1, 3, 1, 4, 2, 1, 2, 2, 2, 3, 2, 4, 3, 1, 3, 2, 3, 3, 3, 4, 4, 1, 4, 2, 4, 3, 4, 4]"
   ]
  },
  {
   "cell_type": "markdown",
   "id": "f96a21e4-3673-4290-a0ec-7bf2653c01bc",
   "metadata": {},
   "source": [
    "Set is the datatype in python that does not allow duplicate items.\n",
    "my_list = [1, 1, 1, 2, 1, 3, 1, 4, 2, 1, 2, 2, 2, 3, 2, 4, 3, 1, 3, 2, 3, 3, 3, 4, 4, 1, 4, 2, 4, 3, 4, 4]\n",
    "my_set = set(my_list)\n",
    "my_list_without_duplicates = list(my_set)\n",
    "print(my_list_without_duplicates)\n"
   ]
  },
  {
   "cell_type": "markdown",
   "id": "4b2686ad-ffed-4c9b-942f-adf531bf5ced",
   "metadata": {},
   "source": [
    "Q4. Explain the difference between the union() and update() methods for a set. Give an example of\n",
    "each method."
   ]
  },
  {
   "cell_type": "markdown",
   "id": "a19898cd-f319-42c6-b9ee-da2a2e297da3",
   "metadata": {},
   "source": [
    "The union() method returns a new set that contains all the elements from both sets, without modifying either of the original sets\n",
    "In this code, we create two sets, set1 and set2, with some overlapping elements.\n",
    "then use the union() method to combine the two sets into a new set set3, which contains all the elements from both sets.\n",
    "set1 = {1, 2, 3}\n",
    "set2 = {3, 4, 5}\n",
    "set3 = set1.union(set2)\n",
    "print(set3)\n",
    "\n",
    "whereas in update() method modifies the original set by adding all the elements from another set to it.\n",
    "set1 = {1, 2, 3}\n",
    "set2 = {3, 4, 5}\n",
    "set1.update(set2)\n",
    "print(set1)\n",
    "Union() returns a new set without changing the original sets,\n",
    "whereas update() modifies the original set by adding all the elements from another set to it. \n",
    "This is the main distinction between union() and update().\n",
    "\n"
   ]
  },
  {
   "cell_type": "markdown",
   "id": "d9ee6adb-67b5-45f5-b0f2-7ca27fcba9f7",
   "metadata": {},
   "source": [
    "Q5. What is a dictionary? Give an example. Also, state whether a dictionary is ordered or unordered."
   ]
  },
  {
   "cell_type": "markdown",
   "id": "f01abd7d-779c-4339-a1e9-6fa4bf045d36",
   "metadata": {},
   "source": [
    "A dictionary is a collection datatype in Python that stores key-value pairs. \n",
    "Each key-value pair is separated by a colon (:), and the key is used to access its corresponding value.\n",
    "Dictionaries are mutable, which means that they can be modified after creation.\n",
    "\n",
    "my_dict = {\"apple\": 2, \"banana\": 4, \"cherry\": 6}\n",
    "print(my_dict[\"banana\"]) \n",
    "\n",
    "we can extract the value of key banana"
   ]
  },
  {
   "cell_type": "markdown",
   "id": "10939b04-7d2d-41d8-9b3a-ccd6cc6cd361",
   "metadata": {},
   "source": [
    "Q7. Using setdefault() method, create key named topics in the given dictionary and also add the value of\n",
    "the key as this list ['Python', 'Machine Learning’, 'Deep Learning']"
   ]
  },
  {
   "cell_type": "code",
   "execution_count": null,
   "id": "d4ad54a1-a3fe-4bf1-b3c9-526a257683be",
   "metadata": {},
   "outputs": [],
   "source": [
    "dict1 = {'language': 'Python', 'course': 'Data Science Masters'}\n",
    "dict1.setdefault('topics', ['Python', 'Machine Learning', 'Deep Learning'])\n",
    "print(dict1)\n",
    "\n"
   ]
  },
  {
   "cell_type": "markdown",
   "id": "cd825aee-5077-40a9-ada8-94c225b8a8a1",
   "metadata": {},
   "source": [
    "Q8. What are the three view objects in dictionaries? Use the three in-built methods in python to display\n",
    "these three view objects for the given dictionary.\n",
    "dict1 = {'Sport': 'Cricket' , 'Teams': ['India', 'Australia', 'England', 'South Africa', 'Sri Lanka', 'New Zealand']}"
   ]
  },
  {
   "cell_type": "code",
   "execution_count": null,
   "id": "c8f5d88c-b83d-4767-b197-73703cbe4936",
   "metadata": {},
   "outputs": [],
   "source": [
    "dict1 = {'Sport': 'Cricket' , 'Teams': ['India', 'Australia', 'England', 'South Africa', 'Sri Lanka', 'New Zealand']}\n",
    "\n",
    "# Display the keys of the dictionary\n",
    "print(dict1.keys())\n",
    "\n",
    "# Display the values of the dictionary\n",
    "print(dict1.values())\n",
    "\n",
    "# Display the key-value pairs of the dictionary as tuples\n",
    "print(dict1.items())"
   ]
  },
  {
   "cell_type": "code",
   "execution_count": null,
   "id": "725e1e5e-7f45-4cc3-a994-726633a318d7",
   "metadata": {},
   "outputs": [],
   "source": []
  }
 ],
 "metadata": {
  "kernelspec": {
   "display_name": "Python 3 (ipykernel)",
   "language": "python",
   "name": "python3"
  },
  "language_info": {
   "codemirror_mode": {
    "name": "ipython",
    "version": 3
   },
   "file_extension": ".py",
   "mimetype": "text/x-python",
   "name": "python",
   "nbconvert_exporter": "python",
   "pygments_lexer": "ipython3",
   "version": "3.10.8"
  }
 },
 "nbformat": 4,
 "nbformat_minor": 5
}
