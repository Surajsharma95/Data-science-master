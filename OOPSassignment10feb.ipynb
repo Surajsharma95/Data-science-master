{
 "cells": [
  {
   "cell_type": "markdown",
   "id": "5b39fb37-2fa4-402a-b916-1cf37fdb9def",
   "metadata": {},
   "source": [
    "**Q1:** Which function is used to open a file? What are the different modes of opening a file? Explain each mode\n",
    "of file opening."
   ]
  },
  {
   "cell_type": "markdown",
   "id": "37b7f3ed-2aff-4655-82d7-e0be4d983b9c",
   "metadata": {},
   "source": [
    "`open()` function is use to open file in folling mode eg.. -- file = open(\"sample.txt\",\"r\")"
   ]
  },
  {
   "cell_type": "markdown",
   "id": "e938db1c-32cd-4c21-be6e-1db0c121739e",
   "metadata": {},
   "source": [
    "Read Mode (\"r\"): This is the default mode for file opening. It allows you to read the contents of the file. If the file doesn't exist, it will raise a FileNotFoundError exception.\n",
    "\n",
    "Write Mode (\"w\"): This mode allows you to write data to a file. If the file doesn't exist, a new file will be created. If the file already exists, it will be truncated, erasing its previous contents. Be cautious when using this mode, as it can lead to data loss.\n",
    "\n",
    "Append Mode (\"a\"): This mode is used for appending data to an existing file. If the file doesn't exist, a new file will be created. However, unlike write mode, if the file already exists, the new data will be added at the end of the file, preserving its existing contents.\n",
    "\n",
    "Binary Mode (\"b\"): This mode is used when dealing with binary files, such as images, audio, or video files. It is often used in conjunction with the other modes, denoted by adding \"b\" to the mode (e.g., \"rb\", \"wb\", \"ab\"). Binary mode ensures that the data is read or written in its binary representation.\n",
    "\n",
    "Update Mode (\"+\"): This mode allows both reading and writing to a file. It is denoted by adding \"+\" to the mode (e.g., \"r+\", \"w+\", \"a+\"). In this mode, you can both read from and write to the file, enabling you to modify its contents.\n",
    "\n",
    "        "
   ]
  },
  {
   "cell_type": "markdown",
   "id": "fa08c124-27b4-4b55-8f05-9aaa6d0383af",
   "metadata": {},
   "source": [
    "**Q2:** Why close() function is used? Why is it important to close a file?"
   ]
  },
  {
   "cell_type": "markdown",
   "id": "dc5d6d82-6af1-4888-8c72-403c55bd8478",
   "metadata": {},
   "source": [
    "`close()` function is use to close the file. closing file is required for the following reason Release system resources, Avoid data corruption, Prevent accidental modification"
   ]
  },
  {
   "cell_type": "markdown",
   "id": "910019b6-abea-4d23-a299-3be5c1bb3ee2",
   "metadata": {},
   "source": [
    "**Q3:** Write a python program to create a text file. Write ‘I want to become a Data Scientist’ in that file. Then\n",
    "close the file. Open this file and read the content of the file."
   ]
  },
  {
   "cell_type": "code",
   "execution_count": 10,
   "id": "0fb3c3ea-488c-4cf1-b462-8df71857f8e1",
   "metadata": {},
   "outputs": [],
   "source": [
    "file=open(\"data_scientist.txt\", \"w\")\n",
    "file.write(\"I want to become a Data Scientist\")\n",
    "file.close()"
   ]
  },
  {
   "cell_type": "code",
   "execution_count": 11,
   "id": "af210180-2a11-4ac3-a7e9-b620aa83efb8",
   "metadata": {},
   "outputs": [
    {
     "name": "stdout",
     "output_type": "stream",
     "text": [
      "I want to become a Data Scientist\n"
     ]
    }
   ],
   "source": [
    "file=open(\"data_scientist.txt\", \"r\")\n",
    "content = file.read()\n",
    "print(content)"
   ]
  },
  {
   "cell_type": "markdown",
   "id": "e005d228-7fbe-4b73-95b3-bac938b989d7",
   "metadata": {},
   "source": [
    "**Q4:** Explain the following with python code: read(), readline() and readlines()."
   ]
  },
  {
   "cell_type": "markdown",
   "id": "288b5d35-0427-49f1-a1bd-06c92b5941e7",
   "metadata": {},
   "source": [
    "`read()`: The read() method is used to read the entire contents of a file as a single string. \n",
    "`readline()`: The readline() method is used to read a single line from a file\n",
    "`readlines()`: The readlines() method is used to read all the lines of a file and returns them as a list of strings."
   ]
  },
  {
   "cell_type": "code",
   "execution_count": 20,
   "id": "b5998c82-e84c-4cdf-9bd5-10a222474172",
   "metadata": {},
   "outputs": [
    {
     "name": "stdout",
     "output_type": "stream",
     "text": [
      "I want to become a Data Scientist\n",
      "hello\n"
     ]
    }
   ],
   "source": [
    "with open(\"data_scientist.txt\", \"r\") as file:\n",
    "    content = file.read()\n",
    "    print(content)"
   ]
  },
  {
   "cell_type": "code",
   "execution_count": 17,
   "id": "652de65a-bc1f-4d2a-81f0-c9aa04851a95",
   "metadata": {},
   "outputs": [
    {
     "name": "stdout",
     "output_type": "stream",
     "text": [
      "I want to become a Data Scientist\n",
      "\n",
      "hello\n"
     ]
    }
   ],
   "source": [
    "with open(\"data_scientist.txt\", \"r\") as file:\n",
    "    line1 = file.readline()\n",
    "    line2 = file.readline()\n",
    "    print(line1)\n",
    "    print(line2)"
   ]
  },
  {
   "cell_type": "code",
   "execution_count": 19,
   "id": "790288da-4dda-450a-99bc-13c8ef1bc415",
   "metadata": {},
   "outputs": [
    {
     "name": "stdout",
     "output_type": "stream",
     "text": [
      "I want to become a Data Scientist\n",
      "\n",
      "hello\n"
     ]
    }
   ],
   "source": [
    "with open(\"data_scientist.txt\", \"r\") as file:\n",
    "    lines = file.readlines()\n",
    "    for line in lines:\n",
    "        print(line)"
   ]
  },
  {
   "cell_type": "markdown",
   "id": "0482bf96-293c-4c4c-a9b5-ea8a1a724f05",
   "metadata": {},
   "source": [
    "**Q5:** Explain why with statement is used with open(). What is the advantage of using with statement and\n",
    "open() together?"
   ]
  },
  {
   "cell_type": "markdown",
   "id": "af64a330-0a22-4f11-ad0d-19740426a530",
   "metadata": {},
   "source": [
    "The `with` statement is used with the open() function in Python to ensure proper management of resources and automatic cleanup. The advantage of using the with statement with `open()` is that it handles the opening and closing of the file automatically, even if an exception occurs within the block. reasons- Automatic resource management,Error handling, no need to use `close()`"
   ]
  },
  {
   "cell_type": "markdown",
   "id": "23b27269-b31e-4ab1-ab22-a3abdb01f006",
   "metadata": {},
   "source": [
    "**Q6:** Explain the write() and writelines() functions. Give a suitable example."
   ]
  },
  {
   "cell_type": "markdown",
   "id": "67a42860-0b83-4bf4-b7e9-52470efccb3f",
   "metadata": {},
   "source": [
    "`write()`: The `write()` function is used to write a single string or a sequence of characters to a file. It appends the specified data to the end of the file, or if the file doesn't exist, it creates a new file and writes the data to it"
   ]
  },
  {
   "cell_type": "code",
   "execution_count": 21,
   "id": "eb2a300a-ef77-4939-89e6-ae2c94acb7d1",
   "metadata": {},
   "outputs": [],
   "source": [
    "with open(\"data.txt\", \"w\") as file:\n",
    "    file.write(\"Hello, World!\\n\")\n",
    "    file.write(\"This is a test.\")"
   ]
  },
  {
   "cell_type": "markdown",
   "id": "7b4b642b-ce3b-4714-9dc0-9cda88cffbd2",
   "metadata": {},
   "source": [
    "`writelines()`: The `writelines()` function is used to write multiple strings or a sequence of strings to a file. It takes an iterable (such as a list or tuple) of strings and writes each string to the file without adding any line breaks."
   ]
  },
  {
   "cell_type": "code",
   "execution_count": 22,
   "id": "833a13e8-3354-4a3f-898a-907749812ff5",
   "metadata": {},
   "outputs": [],
   "source": [
    "lines = [\"Line 1\\n\", \"Line 2\\n\", \"Line 3\\n\"]\n",
    "with open(\"data2.txt\", \"w\") as file:\n",
    "    file.writelines(lines)"
   ]
  },
  {
   "cell_type": "code",
   "execution_count": null,
   "id": "6a98bc22-c446-4bba-aef1-1e47695c0e23",
   "metadata": {},
   "outputs": [],
   "source": []
  }
 ],
 "metadata": {
  "kernelspec": {
   "display_name": "Python 3 (ipykernel)",
   "language": "python",
   "name": "python3"
  },
  "language_info": {
   "codemirror_mode": {
    "name": "ipython",
    "version": 3
   },
   "file_extension": ".py",
   "mimetype": "text/x-python",
   "name": "python",
   "nbconvert_exporter": "python",
   "pygments_lexer": "ipython3",
   "version": "3.10.8"
  }
 },
 "nbformat": 4,
 "nbformat_minor": 5
}
